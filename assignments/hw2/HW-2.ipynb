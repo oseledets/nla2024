{
 "cells": [
  {
   "cell_type": "markdown",
   "metadata": {
    "id": "5IKq_VeVlZXv"
   },
   "source": [
    "# Problem Set 2"
   ]
  },
  {
   "cell_type": "markdown",
   "metadata": {
    "id": "-T_L05K1ldNV"
   },
   "source": [
    "## Important information\n",
    "\n",
    "Please submit the single Jupyter Notebook file, where only Python and Markdown/LaTeX are used. Any hand-written solutions inserted by photos or in any other way are prohibitive and will not be graded. If you will have any questions about using Markdown, ask them!\n",
    "\n",
    "The works will be checked for plagiarism. The score will be divided by the number of similar works."
   ]
  },
  {
   "cell_type": "markdown",
   "metadata": {
    "id": "xnRGMjaIwaML"
   },
   "source": [
    "## Tensor Train (10 pts)"
   ]
  },
  {
   "cell_type": "markdown",
   "metadata": {
    "id": "3X9T6bT2wdUP"
   },
   "source": [
    "Tensor is a multidimensional array of shape $n_1 \\times n_2 \\times ... \\times n_d$ where the number $d$ defines the dimensionality and every element can be get trough a multi-index $[1_1, i_2, \\dots, i_d]$. If $d=1$ such tensor is simply a vector and if $d=2$ - a matrix.\n",
    "\n",
    "Tensor Train is a special format enables to efficently store high-dimensional tensors and perform mathematical operation with them. It was proposed in [link](https://www.researchgate.net/profile/Ivan-Oseledets/publication/220412263_Tensor-Train_Decomposition/links/5bbfb5c5299bf1004c5a56e3/Tensor-Train-Decomposition.pdf). Basically instead of to direct store elements $A[1_1, i_2, \\dots, i_d]$ it was proposed to use a special factorization trough specific 3D-tensors $G_i$ of shape $r_{i-1} \\times n_i \\times r_i$ that are called **cores**:\n",
    "\n",
    "$$\n",
    "A[i_1, i_2, \\dots, i_d] =\n",
    "\\sum_{\\alpha_0=1}^{r_0}\n",
    "\\sum_{\\alpha_1=1}^{r_1}\n",
    "\\dots\n",
    "\\sum_{\\alpha_d=1}^{r_d}\n",
    "G_1[\\alpha_0, i_1, \\alpha_1] \\; \\cdot\n",
    "G_2[\\alpha_1, i_2, \\alpha_2] \\; \\cdot\n",
    "\\dots \\; \\cdot\n",
    "G_d[\\alpha_{d-1}, i_d, \\alpha_d],\n",
    "$$\n",
    "\n",
    "To construct the cores one needs to perform a TT-SVD algorithm, namely to:\n",
    "1. Start from the first _unfolding matrix_ of $A$: $C_1 = A.reshape(n_1, \\prod_{i=2}^{d} n_i)$.\n",
    "2. Perform a low-rank SVD for $C_1$ and get the matrices $U_1, \\Sigma_1, V_1^*$ with rank $r_1 <= \\text{rank}(C_1)$.\n",
    "3. Compute the core $G_1 = U_1.reshape(r_0, n_1, r_1)$.\n",
    "4. Update the matrix $C_1 \\mapsto C_2 = S_1 V_1^*$.\n",
    "5. Repeat steps 2-5 for the updated matrices $C$ untill we get all the cores.\n",
    "\n",
    "**Task (10 pts):** Realize TT-SVD for $d$-dimensional tensor and check it for a random tensor."
   ]
  },
  {
   "cell_type": "code",
   "execution_count": null,
   "metadata": {
    "id": "Cx6iLXmjwcU5"
   },
   "outputs": [],
   "source": [
    "import numpy as np\n",
    "import matplotlib.pyplot as plt"
   ]
  },
  {
   "cell_type": "code",
   "execution_count": null,
   "metadata": {
    "id": "v8rQFCw2wgWG"
   },
   "outputs": [],
   "source": [
    "def tt_svd(tensor, max_rank=10):\n",
    "    \"\"\"\n",
    "    Convert a tensor into a tensor train.\n",
    "    input : tensor - np.array of shape [n_1, n_2, ..., n_d]\n",
    "            max_rank - maximal number that ranks r_0, ..., r_d can reach\n",
    "    output: cores - list of d np.arrays of shape [r_i-1, n_i, r_i] for i in d\n",
    "    \"\"\"\n",
    "    cores - # YOUR CODE\n",
    "    return cores"
   ]
  },
  {
   "cell_type": "markdown",
   "metadata": {
    "id": "TFq-xI9HwiQp"
   },
   "source": [
    "To check your algorithm you need to take a function `tt_to_tensor` that converts a tensor train back into a tensor, run it for a tensor train $\\mathcal{A}$ that you would get from your original tensor $A$, and compare $A$ and $A'$ in terms of low-rank approximation error and memory."
   ]
  },
  {
   "cell_type": "code",
   "execution_count": null,
   "metadata": {
    "id": "Snl1ZyE2witV"
   },
   "outputs": [],
   "source": [
    "def tt_to_tensor(cores):\n",
    "    \"\"\"\n",
    "    Convert a tensor train into a tensor.\n",
    "    input : cores - list of d np.arrays of shape [r_i-1, n_i, r_i] for i in d\n",
    "    output: tensor - np.array of shape [n_1, ..., n_d]\n",
    "    \"\"\"\n",
    "    tensor = cores[0]\n",
    "    for G in cores[1:]:\n",
    "        tensor = np.tensordot(tensor, G, 1)\n",
    "    return tensor[0, ..., 0]"
   ]
  },
  {
   "cell_type": "code",
   "execution_count": null,
   "metadata": {
    "id": "8oNBM6iOwkHC"
   },
   "outputs": [],
   "source": [
    "d = 5\n",
    "max_mode = 10\n",
    "modes = np.random.randint(1, max_mode, size=(d))\n",
    "A = np.random.randn(*modes)\n",
    "\n",
    "error = []\n",
    "memory = []\n",
    "for max_rank in range(1, 50):\n",
    "    A_tt = tt_svd(A, max_rank)\n",
    "    A_recovered = tt_to_tensor(A_tt)\n",
    "\n",
    "    error.append(np.linalg.norm(A_recovered - A))\n",
    "    memory.append(sum([np.prod(core.shape) for core in A_tt]))"
   ]
  },
  {
   "cell_type": "code",
   "execution_count": null,
   "metadata": {
    "id": "6oj9Zc1ywncE"
   },
   "outputs": [],
   "source": [
    "plt.figure(figsize=(10, 4))\n",
    "\n",
    "plt.subplot(1, 2, 1)\n",
    "plt.title('MSE')\n",
    "plt.plot(error)\n",
    "\n",
    "plt.subplot(1, 2, 2)\n",
    "plt.title('Memory')\n",
    "plt.plot(memory)\n",
    "\n",
    "plt.show()"
   ]
  },
  {
   "cell_type": "markdown",
   "metadata": {
    "id": "pxK6eedqwo9y"
   },
   "source": [
    "What can you say about the results?"
   ]
  },
  {
   "cell_type": "markdown",
   "metadata": {
    "id": "MyZ21DGJ46K-"
   },
   "source": [
    "## Sparce Matrix Factorization for Linear Systems (13 pts)"
   ]
  },
  {
   "cell_type": "markdown",
   "metadata": {
    "id": "qnZnUrGPFIu5"
   },
   "source": [
    "### Imports"
   ]
  },
  {
   "cell_type": "code",
   "execution_count": null,
   "metadata": {
    "id": "YmbjdBXTRAi6"
   },
   "outputs": [],
   "source": [
    "import numpy as np\n",
    "import scipy.sparse as sp\n",
    "import timeit\n",
    "import scipy.sparse.linalg as spsplin\n",
    "import scipy.linalg as splin\n",
    "import matplotlib.pyplot as plt\n",
    "import time\n",
    "import networkx as nx\n",
    "from matplotlib.animation import FuncAnimation\n",
    "from scipy.sparse import diags, csr_matrix\n",
    "from scipy.sparse.linalg import spsolve\n",
    "from IPython.display import HTML\n",
    "from tqdm import tqdm\n",
    "%matplotlib inline"
   ]
  },
  {
   "cell_type": "code",
   "execution_count": null,
   "metadata": {
    "colab": {
     "base_uri": "https://localhost:8080/"
    },
    "collapsed": true,
    "id": "I2hHyKz1yFoB",
    "outputId": "6b6335fd-c458-4ba7-aafe-53486b799dcc"
   },
   "outputs": [],
   "source": [
    "!apt-get install libsuitesparse-dev\n",
    "!pip install scikit-sparse\n",
    "!apt-get install -y ffmpeg imagemagick"
   ]
  },
  {
   "cell_type": "code",
   "execution_count": null,
   "metadata": {
    "id": "ZEHFeGtNFwyb"
   },
   "outputs": [],
   "source": [
    "from sksparse.cholmod import cholesky"
   ]
  },
  {
   "cell_type": "markdown",
   "metadata": {
    "id": "j3RHOxe95CGe"
   },
   "source": [
    "### Demonstration: Fill-in importance"
   ]
  },
  {
   "cell_type": "markdown",
   "metadata": {
    "id": "7RumQOcsy2or"
   },
   "source": [
    "- Strictly regular matrices have LU-decomposition.\n",
    "\n",
    "- An important **subclass** of strictly regular matrices is the class of **Hermitian positive definite matrices**\n",
    "\n",
    "\n",
    "**Definition.** A matrix $A$ is called **positive definite** </font> if for any $x: \\Vert x \\Vert \\ne 0$ we have\n",
    "\n",
    "$$\n",
    "(x, Ax) > 0.\n",
    "$$\n",
    "\n",
    "- **Claim:** A Hermitian positive definite matrix $A$ is strictly regular and has **Cholesky factorization** of the form\n",
    "\n",
    "$$A = LL^*,$$\n",
    "\n",
    "where $L$ is a lower triangular matrix."
   ]
  },
  {
   "cell_type": "markdown",
   "metadata": {
    "id": "t7BKknWe45an"
   },
   "source": [
    "Let us see how Cholesky is faster than LU in symmetric positive definite case. First demonstration is a random SPD matrix. The second one is the same matrix, but with its rows and columns permuted to reduce the fill-in."
   ]
  },
  {
   "cell_type": "code",
   "execution_count": null,
   "metadata": {
    "id": "wd--ChQqiVeZ"
   },
   "outputs": [],
   "source": [
    "n = 3000\n",
    "ex = np.ones(n)\n",
    "A = sp.spdiags(np.vstack((3*ex,  7*ex, 3*ex)), [-1, 0, 1], n, n, 'csr')\n",
    "S = np.abs(sp.random(3000,3000, density=(1/(10*n))).tocsr())\n",
    "A = A+ S.transpose() + S"
   ]
  },
  {
   "cell_type": "code",
   "execution_count": null,
   "metadata": {
    "colab": {
     "base_uri": "https://localhost:8080/",
     "height": 413
    },
    "id": "XNmH54Xz2SS8",
    "outputId": "deeda71e-9ad9-48aa-9dc7-1672b6136872"
   },
   "outputs": [],
   "source": [
    "# Derive Cholesky Factorization\n",
    "at = time.time()\n",
    "factor = cholesky(A, ordering_method=\"natural\")\n",
    "bt = time.time()\n",
    "\n",
    "# Derive LU Factorization\n",
    "ct = time.time()\n",
    "lu = spsplin.splu(A.tocsc(), permc_spec=\"NATURAL\")\n",
    "dt = time.time()\n",
    "\n",
    "fig, axes = plt.subplots(1, 4, figsize=(10, 4))\n",
    "axes[0].spy(A)\n",
    "axes[0].set_title(\"Original Matrix\")\n",
    "axes[1].spy(factor.L())\n",
    "axes[1].set_title(\"Cholesky L matrix\")\n",
    "axes[2].spy(lu.L)\n",
    "axes[2].set_title(\"LU L matrix\")\n",
    "axes[3].spy(lu.U)\n",
    "axes[3].set_title(\"LU U matrix\")\n",
    "plt.tight_layout()\n",
    "plt.show()\n",
    "print('==================================================')\n",
    "print('Cholesky time taken: ', bt-at)\n",
    "print('LU time taken: ', dt-ct)\n",
    "print('Nonzero elements in original matrix: ', A.nnz)\n",
    "print('Nonzero elements in Cholesky L: ', factor.L().nnz)\n",
    "print('Nonzero elements in LU L: ', lu.L.nnz)"
   ]
  },
  {
   "cell_type": "code",
   "execution_count": null,
   "metadata": {
    "colab": {
     "base_uri": "https://localhost:8080/",
     "height": 362
    },
    "id": "FervW0gj3hf-",
    "outputId": "d5325102-1969-468e-b17e-659ce5ef12bb"
   },
   "outputs": [],
   "source": [
    "# Derive Cholesky Factorization\n",
    "at = time.time()\n",
    "factor = cholesky(A)\n",
    "bt = time.time()\n",
    "\n",
    "# Derive LU Factorization\n",
    "ct = time.time()\n",
    "lu = spsplin.splu(A.tocsc())\n",
    "dt = time.time()\n",
    "\n",
    "fig, axes = plt.subplots(1, 3, figsize=(6, 4))\n",
    "axes[0].spy(factor.L())\n",
    "axes[0].set_title(\"Cholesky L matrix\")\n",
    "axes[1].spy(lu.L)\n",
    "axes[1].set_title(\"LU L matrix\")\n",
    "axes[2].spy(lu.U)\n",
    "axes[2].set_title(\"LU U matrix\")\n",
    "plt.tight_layout()\n",
    "plt.show()\n",
    "print('==================================================')\n",
    "print('Cholesky time taken: ', bt-at)\n",
    "print('LU time taken: ', dt-ct)\n",
    "print('Nonzero elements in original matrix: ', A.nnz)\n",
    "print('Nonzero elements in Cholesky L: ', factor.L().nnz)\n",
    "print('Nonzero elements in LU L: ', lu.L.nnz)"
   ]
  },
  {
   "cell_type": "markdown",
   "metadata": {
    "id": "NZmBkR6j6AwJ"
   },
   "source": [
    "### Nested dissection algorythm"
   ]
  },
  {
   "cell_type": "markdown",
   "metadata": {
    "id": "4DPCLwsy6LnG"
   },
   "source": [
    "As LU and Cholesky algorythms derive factors in a pre-defined order, we can permute matrix in a way to make this algorythms produce minimal fill-in. One of approaches that works with SPD matrices is reducing to **block arrowhead structure**.\n",
    "\n",
    "$$\n",
    "PAP^\\top = \\begin{bmatrix} A_{\\alpha\\alpha} & 0 & A_{\\alpha\\sigma} \\\\ 0 & A_{\\beta\\beta} & A_{\\beta\\sigma} \\\\ A_{\\sigma\\alpha} & A_{\\sigma\\beta} & A_{\\sigma\\sigma}\\end{bmatrix}\n",
    "$$\n",
    "\n",
    "After decomposition, factors will have 0-blocks intact."
   ]
  },
  {
   "cell_type": "markdown",
   "metadata": {
    "id": "AC8eKaoC7m5i"
   },
   "source": [
    "Main idea is that symmetric matrix $A$ can be considered an adjacency matrix for some graph $G$. Then if we split $G$ into subgraphs $L, R, S$ in a way that there are no edges between nodes from $L$ and $R$, we can construct blocks, where node index is equal to matrix row/column index, and thus blocks $A_{LR}$ and $A_{RL}$ will be $0$.\n",
    "\n",
    "The challenge in this approach is locating an optimal subset $S$ called **Separator** of nodes of $G$.\n",
    "\n",
    "Here we will choose separator using Spectral Partitioning approach (you can read about it in Lecture 11)"
   ]
  },
  {
   "cell_type": "markdown",
   "metadata": {
    "id": "lJsWyZg89snA"
   },
   "source": [
    "### Task 1 (5 pts): implement matrix separation"
   ]
  },
  {
   "cell_type": "markdown",
   "metadata": {
    "id": "0PE27B8dE-yt"
   },
   "source": [
    "Implement given algorythm to permute matrix into lower-arrowhead block form"
   ]
  },
  {
   "cell_type": "code",
   "execution_count": null,
   "metadata": {
    "id": "aeh_nIxc90PP"
   },
   "outputs": [],
   "source": [
    "def block_dissection(A):\n",
    "  B = A.copy()\n",
    "  B.data = np.ones_like(B.data)\n",
    "  G=nx.from_numpy_array(A)\n",
    "  Laplacian = nx.laplacian_matrix(G).asfptype()\n",
    "\n",
    "  eigval, eigvec = spsplin.eigsh(Laplacian, k=2, which=\"SM\")\n",
    "  left,right,sep = [],[],[]\n",
    "  for node in G.nodes:\n",
    "    sides = [np.sign(eigvec[:, 1][n]) for n in G.neighbors(node)]\n",
    "    if all(x > 0 for x in sides):\n",
    "      right.append(node)\n",
    "    elif all(x < 0 for x in sides):\n",
    "      left.append(node)\n",
    "    else:\n",
    "      sep.append(node)\n",
    "\n",
    "  order = left + right + sep\n",
    "  A = A[order, :][:, order]\n",
    "\n",
    "  return A"
   ]
  },
  {
   "cell_type": "code",
   "execution_count": null,
   "metadata": {
    "id": "Xk9T8dS0-XVq"
   },
   "outputs": [],
   "source": [
    "n = 300\n",
    "k = 3\n",
    "ex = np.ones(n)\n",
    "A = sp.spdiags(np.vstack((2*ex,  8*ex, 2*ex)), [-1, 0, 1], n, n, 'csr')\n",
    "S = np.abs(sp.random(n,n, density=(1/(k*n))).tocsr())\n",
    "A = A+ S.transpose() + S"
   ]
  },
  {
   "cell_type": "code",
   "execution_count": null,
   "metadata": {
    "colab": {
     "base_uri": "https://localhost:8080/"
    },
    "id": "5vZQCWVz_AA-",
    "outputId": "8b8e157f-6631-43ea-edf7-24868d5b9d2c"
   },
   "outputs": [],
   "source": [
    "B = block_dissection(A)"
   ]
  },
  {
   "cell_type": "code",
   "execution_count": null,
   "metadata": {
    "colab": {
     "base_uri": "https://localhost:8080/",
     "height": 266
    },
    "id": "5-HbcMum50Gq",
    "outputId": "d4a2617b-1b8e-44c8-9bcb-331e5c72568d"
   },
   "outputs": [],
   "source": [
    "fig, axes = plt.subplots(1, 3, figsize=(6, 4))\n",
    "axes[0].spy(A)\n",
    "axes[0].set_title(\"Original Matrix\")\n",
    "axes[1].spy(B)\n",
    "axes[1].set_title(\"Permuted Matrix\")\n",
    "factor = cholesky(B, ordering_method=\"natural\")\n",
    "axes[2].spy(factor.L())\n",
    "axes[2].set_title(\"Cholesky L matrix\")\n",
    "plt.tight_layout()\n",
    "plt.show()"
   ]
  },
  {
   "cell_type": "markdown",
   "metadata": {
    "id": "bBgqhBXq_Vvk"
   },
   "source": [
    "### Task 2 (5 pts): implement Nested Dissection\n",
    "\n"
   ]
  },
  {
   "cell_type": "markdown",
   "metadata": {
    "id": "S9WgvsrbFBt-"
   },
   "source": [
    "Now implement algorithm that will recursively permute each of $A_{iLL}$ and $A_{iRR}$ blocks to their own lower-arrowhead bock form.\n",
    "\n",
    "Reminder: you are permuting the whole matrix, not each block separately.\n",
    "\n",
    "Reminder: it is a good idea to move all $A_{iSS}$ blocks together on the bottom."
   ]
  },
  {
   "cell_type": "code",
   "execution_count": null,
   "metadata": {
    "id": "KZalePa7AagY"
   },
   "outputs": [],
   "source": [
    "# A - PSD matrix\n",
    "# k - maximal block size\n",
    "def nested_dissection(A, k=10):\n",
    "  if A.shape[0] <k:\n",
    "    return [i for i in range(A.shape[0])], []\n",
    "\n",
    "  B = A.copy()\n",
    "  B.data = np.ones_like(B.data)\n",
    "  G=nx.from_numpy_array(A)\n",
    "  Laplacian = nx.laplacian_matrix(G).asfptype()\n",
    "  eigval, eigvec = spsplin.eigsh(Laplacian, k=2, which=\"SM\")\n",
    "  left,right,sep = [],[],[]\n",
    "  for node in G.nodes:\n",
    "    sides = [np.sign(eigvec[:, 1][n]) for n in G.neighbors(node)]\n",
    "    if all(x > 0 for x in sides):\n",
    "      right.append(node)\n",
    "    elif all(x < 0 for x in sides):\n",
    "      left.append(node)\n",
    "    else:\n",
    "      sep.append(node)\n",
    "  order = left + right + sep\n",
    "  A = A[order, :][:, order]\n",
    "\n",
    "  D1 = A[:len(left),:len(left)]\n",
    "  D2 = A[len(left):len(left)+len(right),len(left):len(left)+len(right)]\n",
    "\n",
    "  ord1 = np.arange(len(left))\n",
    "  sep1, sep2 = [], []\n",
    "  ord2 = np.arange(len(right))\n",
    "  if len(left) < A.shape[0]:\n",
    "    ord1, sep1 = nested_dissection(D1, k)\n",
    "\n",
    "  if len(right) < A.shape[0]:\n",
    "    ord2, sep2 = nested_dissection(D2, k)\n",
    "\n",
    "\n",
    "  order = [left[i] for i in ord1] + [right[i] for i in ord2] + [left[i] for i in sep1] + [right[i] for i in sep2] + sep\n",
    "\n",
    "  return [left[i] for i in ord1] + [right[i] for i in ord2], [left[i] for i in sep1] + [right[i] for i in sep2] + sep"
   ]
  },
  {
   "cell_type": "code",
   "execution_count": null,
   "metadata": {
    "id": "PQ9X38uOAxeh"
   },
   "outputs": [],
   "source": [
    "n = 3000\n",
    "k = 5\n",
    "ex = np.ones(n)\n",
    "A = sp.spdiags(np.vstack((1*ex,  3*ex, 1*ex)), [-1, 0, 1], n, n, 'csr')\n",
    "S = np.abs(sp.random(n,n, density=(1/(k*n))).tocsr())\n",
    "A = A+ S.transpose() + S"
   ]
  },
  {
   "cell_type": "code",
   "execution_count": null,
   "metadata": {
    "colab": {
     "base_uri": "https://localhost:8080/"
    },
    "id": "GCVPzU7BAzx-",
    "outputId": "30dc718d-21bc-4558-cf83-685873784b48"
   },
   "outputs": [],
   "source": [
    "lr, s = nested_dissection(A, 50)\n",
    "order = lr + s\n",
    "B = A[order, :][:, order]"
   ]
  },
  {
   "cell_type": "code",
   "execution_count": null,
   "metadata": {
    "colab": {
     "base_uri": "https://localhost:8080/",
     "height": 529
    },
    "id": "9NUhb1_TAz0b",
    "outputId": "635af173-77c6-405b-97bd-9e9ef36aee20"
   },
   "outputs": [],
   "source": [
    "fig, axes = plt.subplots(2, 2, figsize=(6, 4))\n",
    "axes[0,0].spy(A)\n",
    "axes[0,0].set_title(\"Original Matrix\")\n",
    "axes[0,1].spy(B)\n",
    "axes[0,1].set_title(\"Permuted Matrix\")\n",
    "factorA = cholesky(A, ordering_method=\"natural\")\n",
    "axes[1,0].spy(factorA.L())\n",
    "axes[1,0].set_title(\"Cholesky Original\")\n",
    "factorB = cholesky(B, ordering_method=\"natural\")\n",
    "axes[1,1].spy(factorB.L())\n",
    "axes[1,1].set_title(\"Cholesky Permuted\")\n",
    "plt.tight_layout()\n",
    "plt.show()\n",
    "\n",
    "print('Nonzero elements in original matrix:    ', A.nnz)\n",
    "print('Nonzero elements in Cholesky L:         ', factorA.L().nnz)\n",
    "print('Nonzero elements in permuted Cholesky L:', factorB.L().nnz)"
   ]
  },
  {
   "cell_type": "markdown",
   "metadata": {
    "id": "cTvrU5WmEnr1"
   },
   "source": [
    "### Demonstration: Animation of heat distribution in a wall"
   ]
  },
  {
   "cell_type": "markdown",
   "metadata": {
    "id": "9Y0WxNTXFtQS"
   },
   "source": [
    "Consider simulating heat distribution in a large mechanical component (e.g., a car engine block or a building wall). The thermal conduction equation is modeled using the **Heat Equation**, a PDE:\n",
    "\n",
    "$$\n",
    "\\frac{\\partial T}{\\partial t} = \\nabla \\cdot (k \\nabla T) + Q,\n",
    "$$\n",
    "where:\n",
    "- $ T $: temperature,\n",
    "- $ k $: thermal conductivity,\n",
    "- $ Q $: heat source.\n",
    "\n",
    "Using [Finite Element Method](https://en.wikipedia.org/wiki/Finite_element_method#:~:text=The%20finite%20element%20method%20(FEM,mass%20transport%2C%20and%20electromagnetic%20potential.) we represent continuous solid object as a set of small separate objects. Each of them transfers heat only to neighbouring pieces. Thus, if we represent temperature of all $n$ pieces in a vector $T$ we can construct $n \\times n$ adjacency matrix $A$, in which each non-zero element $a_{i,j}$ represents heat conductivity between elements $i$ and $j$, and the initial equation [can be represented](https://skim.math.msstate.edu/LectureNotes/NumerPDEs_Lecture.pdf) as:\n",
    "$$\n",
    "AT_{t+1}=T_t\n",
    "$$\n",
    "\n",
    "To make calculations more accurate, we need to represent object with larger number $n$ of small pieces of size $1/k$. However, size of $A$ is $\\mathcal{O}(k^4)$ for a 2D object and $\\mathcal{O}(k^9)$ for 3D object, which may be way too large.\n",
    "\n",
    "However, $A$ has an important feature - it is sparse, positive and symmetric. This will allow us to use sparse methods and fast Cholesky factorization for quick solution. Also, computationally-expensive computation of matrix permutation can be done only once, as adjacency matrix does not change.\n",
    "\n"
   ]
  },
  {
   "cell_type": "markdown",
   "metadata": {
    "id": "yXn4bCSJKWI5"
   },
   "source": [
    "![example.png](data:image/png;base64,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)"
   ]
  },
  {
   "cell_type": "code",
   "execution_count": null,
   "metadata": {
    "id": "AtQBWen31ijy"
   },
   "outputs": [],
   "source": [
    "def adjacency_conductivity_matrix(Nx, Ny, alpha):\n",
    "    N = Nx * Ny  # Total number of nodes\n",
    "    A = sp.lil_matrix((N, N))  # Initialize sparse adjacency matrix\n",
    "\n",
    "    for i in range(Nx):\n",
    "        for j in range(Ny):\n",
    "            node = i * Ny + j\n",
    "            if i > 0:  # Above\n",
    "                neighbor = (i - 1) * Ny + j\n",
    "                A[node, neighbor] = 1\n",
    "            if i < Nx - 1:  # Below\n",
    "                neighbor = (i + 1) * Ny + j\n",
    "                A[node, neighbor] = 1\n",
    "            if j > 0:  # Left\n",
    "                neighbor = i * Ny + (j - 1)\n",
    "                A[node, neighbor] = 1\n",
    "            if j < Ny - 1:  # Right\n",
    "                neighbor = i * Ny + (j + 1)\n",
    "                A[node, neighbor] = 1\n",
    "\n",
    "    I = sp.eye(Nx*Ny, format=\"csr\")\n",
    "    return (1+4*alpha)*I - alpha*A"
   ]
  },
  {
   "cell_type": "code",
   "execution_count": null,
   "metadata": {
    "id": "HqOHPIZIsGv2"
   },
   "outputs": [],
   "source": [
    "def predict_heat_distribution_homemade(A, T, Nx, Ny, n_frames):\n",
    "  lr, s = nested_dissection(A, 500)\n",
    "  order = lr + s\n",
    "  B = A[order, :][:, order]\n",
    "\n",
    "  cholesky_factorization = cholesky(B, ordering_method='natural')\n",
    "\n",
    "  frames = [T.copy().reshape((Nx, Ny))]\n",
    "\n",
    "  for _ in tqdm(range(n_frames)):\n",
    "    # Solve sparse linear system for next time step\n",
    "    T = cholesky_factorization.solve_A(T[order])[np.argsort(order)]\n",
    "    frames.append(T.reshape((Nx, Ny)))\n",
    "  return frames"
   ]
  },
  {
   "cell_type": "code",
   "execution_count": null,
   "metadata": {
    "colab": {
     "base_uri": "https://localhost:8080/"
    },
    "id": "TDpspDXaMy7A",
    "outputId": "26c6f968-b101-4daf-d5d6-d48d20ea21f0"
   },
   "outputs": [],
   "source": [
    "Nx, Ny = 3, 3                                    # Number of grid points in x and y\n",
    "alpha = 0.1\n",
    "T = np.array([25, 50, 150, 0, 0, 50, 0, 0, 25])  # Initial temperature distribution\n",
    "A = adjacency_conductivity_matrix(Nx, Ny, alpha)\n",
    "A.toarray()"
   ]
  },
  {
   "cell_type": "code",
   "execution_count": null,
   "metadata": {
    "colab": {
     "base_uri": "https://localhost:8080/"
    },
    "id": "oTA8N0DDWORR",
    "outputId": "cc49b8d8-c1c7-48d1-c548-69cce7ce6ac2"
   },
   "outputs": [],
   "source": [
    "n_frames = 10\n",
    "frames = predict_heat_distribution_homemade(A, T, Nx, Ny, n_frames)"
   ]
  },
  {
   "cell_type": "code",
   "execution_count": null,
   "metadata": {
    "colab": {
     "base_uri": "https://localhost:8080/",
     "height": 501
    },
    "id": "GaAJnM8PO0nw",
    "outputId": "1a6c96f5-a8fa-48d5-e818-b477e0603cfa"
   },
   "outputs": [],
   "source": [
    "fig, ax = plt.subplots()\n",
    "im = ax.imshow(frames[0], cmap='hot', interpolation='nearest')\n",
    "ax.set_title(\"Heat Distribution\")\n",
    "plt.colorbar(im, ax=ax)\n",
    "\n",
    "def update(frame):\n",
    "    im.set_data(frames[frame])\n",
    "    ax.set_title(f\"Time Step {frame + 1}/{n_frames}\")\n",
    "    return [im]\n",
    "\n",
    "ani = FuncAnimation(fig, update, frames=len(frames), interval=500, blit=True)\n",
    "\n",
    "# Display animation as HTML5 video in Google Colab\n",
    "video = ani.to_html5_video()\n",
    "plt.close(fig)  # Avoid duplicate plot output\n",
    "HTML(video)"
   ]
  },
  {
   "cell_type": "code",
   "execution_count": null,
   "metadata": {
    "id": "zOmgBUXWWTAg"
   },
   "outputs": [],
   "source": [
    "Nx, Ny = 200, 200          # Number of grid points in x and y\n",
    "alpha = 0.1\n",
    "T = 10*np.random.rand(Nx* Ny)  # Initial temperature distribution\n",
    "A = adjacency_conductivity_matrix(Nx, Ny, alpha)"
   ]
  },
  {
   "cell_type": "code",
   "execution_count": null,
   "metadata": {
    "colab": {
     "base_uri": "https://localhost:8080/"
    },
    "id": "28WnNS-WvqtV",
    "outputId": "a17da495-b611-47c7-9080-e243db5471ea"
   },
   "outputs": [],
   "source": [
    "frames = predict_heat_distribution_homemade(A, T, Nx, Ny, n_frames)"
   ]
  },
  {
   "cell_type": "code",
   "execution_count": null,
   "metadata": {
    "colab": {
     "base_uri": "https://localhost:8080/",
     "height": 501
    },
    "id": "-kU0ZrHhWdXe",
    "outputId": "c767504d-1c97-453b-ef6b-470df1b48daa"
   },
   "outputs": [],
   "source": [
    "fig, ax = plt.subplots()\n",
    "im = ax.imshow(frames[0], cmap='hot', interpolation='nearest')\n",
    "ax.set_title(\"Heat Distribution\")\n",
    "plt.colorbar(im, ax=ax)\n",
    "\n",
    "def update(frame):\n",
    "    im.set_data(frames[frame])\n",
    "    ax.set_title(f\"Time Step {frame + 1}/{n_frames}\")\n",
    "    return [im]\n",
    "\n",
    "ani = FuncAnimation(fig, update, frames=len(frames), interval=500)\n",
    "\n",
    "# Display animation as HTML5 video in Google Colab\n",
    "video = ani.to_html5_video()\n",
    "plt.close(fig)  # Avoid duplicate plot output\n",
    "HTML(video)"
   ]
  },
  {
   "cell_type": "markdown",
   "metadata": {
    "id": "1gkYU7dq6sgI"
   },
   "source": [
    "### **Task 3 (5 pts):**\n",
    "Compare computation and memory efficiency of Cholesky using intact matrix with your implementation of Nested Dissection with built-in method."
   ]
  },
  {
   "cell_type": "code",
   "execution_count": null,
   "metadata": {
    "id": "FQhMwX1y7C6X"
   },
   "outputs": [],
   "source": [
    "def predict_heat_distribution_naive(A, T, Nx, Ny, n_frames):\n",
    "  cholesky_factorization = cholesky(A)\n",
    "\n",
    "  frames = [T.copy().reshape((Nx, Ny))]\n",
    "\n",
    "  for _ in tqdm(range(n_frames)):\n",
    "    # Solve sparse linear system for next time step\n",
    "    T = cholesky_factorization.solve_A(T, ordering_method='natural')\n",
    "    frames.append(T.reshape((Nx, Ny)))\n",
    "  return frames"
   ]
  },
  {
   "cell_type": "code",
   "execution_count": null,
   "metadata": {
    "id": "RGFtGlTgV2zp"
   },
   "outputs": [],
   "source": [
    "def predict_heat_distribution(A, T, Nx, Ny, n_frames):\n",
    "  cholesky_factorization = cholesky(A)\n",
    "\n",
    "  frames = [T.copy().reshape((Nx, Ny))]\n",
    "\n",
    "  for _ in tqdm(range(n_frames)):\n",
    "    # Solve sparse linear system for next time step\n",
    "    T = cholesky_factorization.solve_A(T)\n",
    "    frames.append(T.reshape((Nx, Ny)))\n",
    "  return frames"
   ]
  },
  {
   "cell_type": "markdown",
   "metadata": {
    "id": "P-aHimUorwYB"
   },
   "source": [
    "## Clusterisation of musical notes with FFT and PCA (10 pts)"
   ]
  },
  {
   "cell_type": "code",
   "execution_count": null,
   "metadata": {
    "id": "d4kP3Ofd4mrU"
   },
   "outputs": [],
   "source": [
    "import numpy as np\n",
    "from scipy.io import wavfile\n",
    "from numpy.fft import fft, ifft\n",
    "import matplotlib.pyplot as plt"
   ]
  },
  {
   "cell_type": "markdown",
   "metadata": {
    "id": "c-kgd57Zn7W5"
   },
   "source": [
    "### Implement FFT via Cooley-Tukey (check lectures) (5 pts)"
   ]
  },
  {
   "cell_type": "code",
   "execution_count": null,
   "metadata": {
    "id": "I-vul22bkkn7"
   },
   "outputs": [],
   "source": [
    "def FFT(x):\n",
    "    \"\"\"\n",
    "    1D Cooly-Tukey, for input of size 2**n\n",
    "    \"\"\"\n",
    "\n",
    "\n",
    "    '''\n",
    "    Replace with your own implementation\n",
    "    '''\n",
    "\n",
    "    return fft(x)"
   ]
  },
  {
   "cell_type": "markdown",
   "metadata": {
    "id": "FqmprJi8oGsb"
   },
   "source": [
    "### PCA (use SVD library func) (5 pts)"
   ]
  },
  {
   "cell_type": "code",
   "execution_count": null,
   "metadata": {
    "id": "fpeXdqTwoFWT"
   },
   "outputs": [],
   "source": [
    "def calc_PCA(matrix, n_components):\n",
    "    # as input: matrix (n_samples, n_features)\n",
    "    # as output: matrix (n_samples, n_features)\n",
    "\n",
    "    '''\n",
    "    replace with your own func!\n",
    "    '''\n",
    "\n",
    "    from sklearn.decomposition import PCA\n",
    "    a = PCA(n_components)\n",
    "    return a.fit_transform(matrix)"
   ]
  },
  {
   "cell_type": "markdown",
   "metadata": {
    "id": "j5KHcGxXBxtn"
   },
   "source": [
    "### Read files + Utils"
   ]
  },
  {
   "cell_type": "code",
   "execution_count": null,
   "metadata": {
    "id": "wxt7y8lUBy8y"
   },
   "outputs": [],
   "source": [
    "def process_audio(filename):\n",
    "    samplerate, data = wavfile.read(f'./{filename}.wav')\n",
    "    if len(data.shape) > 1:\n",
    "        # convert to mono\n",
    "        data = data[:, 0]\n",
    "\n",
    "    data_splitted = []\n",
    "\n",
    "    w_size = 2048\n",
    "    for indent in [0, 512, 1024, 1024 + 512]:\n",
    "        data_i = data[indent:]\n",
    "        data_i = data_i[:data_i.shape[0] - data_i.shape[0] % w_size]\n",
    "        n_splits = data_i.shape[0] // w_size\n",
    "        # print(data.shape)\n",
    "        data_splitted.append(np.split(data_i, n_splits))\n",
    "\n",
    "    data_splitted = np.concatenate(data_splitted)\n",
    "\n",
    "\n",
    "    a = FFT(data_splitted)\n",
    "    a = a / np.linalg.norm(a, axis=1).reshape(-1, 1)\n",
    "    return a, [filename] * a.shape[0]"
   ]
  },
  {
   "cell_type": "code",
   "execution_count": null,
   "metadata": {
    "id": "maXtYd-uqD6e"
   },
   "outputs": [],
   "source": [
    "chunks, labels = [], []\n",
    "\n",
    "for fl in ['a1', 'b1', 'c1', 'e1', 'f1', 'g1', 'a1s', 'c1s', 'd1s', 'f1s', 'g1s']:\n",
    "    z, x = process_audio(fl)\n",
    "    chunks.append(z)\n",
    "    labels.append(x)\n",
    "\n"
   ]
  },
  {
   "cell_type": "code",
   "execution_count": null,
   "metadata": {
    "id": "HMGW5ornEKno"
   },
   "outputs": [],
   "source": [
    "labels_concat = []\n",
    "for l in labels:\n",
    "    labels_concat += l"
   ]
  },
  {
   "cell_type": "code",
   "execution_count": null,
   "metadata": {
    "id": "5gP4zsKmDL2Z"
   },
   "outputs": [],
   "source": [
    "chunks_np = np.abs(np.concatenate(chunks))"
   ]
  },
  {
   "cell_type": "code",
   "execution_count": null,
   "metadata": {
    "id": "eqbtfxlKDNxr"
   },
   "outputs": [],
   "source": [
    "chunks_fitted = calc_PCA(chunks_np, 4)"
   ]
  },
  {
   "cell_type": "markdown",
   "metadata": {
    "id": "ac5SRGQvp5nz"
   },
   "source": [
    "### Visualisation"
   ]
  },
  {
   "cell_type": "code",
   "execution_count": null,
   "metadata": {
    "id": "KXe4JANrEWFb"
   },
   "outputs": [],
   "source": [
    "colors = {\n",
    "    'a1': 'red',\n",
    "    'a1s': 'pink',\n",
    "    'b1': 'green',\n",
    "    'c1': 'blue',\n",
    "    'c1s': 'olive',\n",
    "    'd1s': 'purple',\n",
    "    'e1': 'cyan',\n",
    "    'f1': 'orange',\n",
    "    'f1s': 'black',\n",
    "    'g1': 'yellow',\n",
    "    'g1s': 'blueviolet',\n",
    "\n",
    "}\n",
    "color_labels = [colors[d] for d in labels_concat]"
   ]
  },
  {
   "cell_type": "code",
   "execution_count": null,
   "metadata": {
    "colab": {
     "base_uri": "https://localhost:8080/",
     "height": 448
    },
    "id": "l6bEqLkQD7Ml",
    "outputId": "3df2daf0-781f-445e-a8fc-5660086eb64c"
   },
   "outputs": [],
   "source": [
    "plt.scatter(chunks_fitted[:, 0], chunks_fitted[:, 3], color=color_labels)"
   ]
  },
  {
   "cell_type": "code",
   "execution_count": null,
   "metadata": {
    "colab": {
     "base_uri": "https://localhost:8080/",
     "height": 448
    },
    "id": "5b1vsv_rGCi3",
    "outputId": "02694097-1ed6-4c60-99ad-e852f6a9d994"
   },
   "outputs": [],
   "source": [
    "plt.scatter(chunks_fitted[:, 0], chunks_fitted[:, 2], color=color_labels)"
   ]
  }
 ],
 "metadata": {
  "colab": {
   "collapsed_sections": [
    "5IKq_VeVlZXv",
    "lz4YSC5y_vp3",
    "xnRGMjaIwaML"
   ],
   "provenance": []
  },
  "kernelspec": {
   "display_name": "Python 3",
   "name": "python3"
  },
  "language_info": {
   "name": "python"
  }
 },
 "nbformat": 4,
 "nbformat_minor": 0
}
